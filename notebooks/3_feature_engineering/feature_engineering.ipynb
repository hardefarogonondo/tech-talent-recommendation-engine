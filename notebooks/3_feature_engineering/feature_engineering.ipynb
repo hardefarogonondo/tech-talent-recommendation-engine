{
 "cells": [
  {
   "attachments": {},
   "cell_type": "markdown",
   "id": "20203c0f",
   "metadata": {},
   "source": [
    "# I. Project Team Members"
   ]
  },
  {
   "attachments": {},
   "cell_type": "markdown",
   "id": "0aa3d7f4",
   "metadata": {},
   "source": [
    "| Prepared by | Email | Prepared for |\n",
    "| :-: | :-: | :-: |\n",
    "| **Hardefa Rogonondo** | hardefarogonondo@gmail.com | **Tech Talent Recommendation Engine** |"
   ]
  },
  {
   "attachments": {},
   "cell_type": "markdown",
   "id": "b05cd469",
   "metadata": {},
   "source": [
    "# II. Notebook Target Definition"
   ]
  },
  {
   "attachments": {},
   "cell_type": "markdown",
   "id": "47bae1d2",
   "metadata": {},
   "source": [
    "_Insert Text Here_"
   ]
  },
  {
   "attachments": {},
   "cell_type": "markdown",
   "id": "3213f42d",
   "metadata": {},
   "source": [
    "# III. Notebook Setup"
   ]
  },
  {
   "attachments": {},
   "cell_type": "markdown",
   "id": "bb5c3810",
   "metadata": {},
   "source": [
    "## III.A. Import Libraries"
   ]
  },
  {
   "cell_type": "code",
   "execution_count": 1,
   "id": "ac84c896",
   "metadata": {},
   "outputs": [],
   "source": [
    "from sklearn.preprocessing import MinMaxScaler, StandardScaler\n",
    "import matplotlib.pyplot as plt\n",
    "import numpy as np\n",
    "import pandas as pd\n",
    "import pickle\n",
    "\n",
    "pd.set_option('display.max_columns', None)\n",
    "pd.set_option('display.max_rows', None)"
   ]
  },
  {
   "attachments": {},
   "cell_type": "markdown",
   "id": "7291e85b",
   "metadata": {},
   "source": [
    "## III.B. Import Data"
   ]
  },
  {
   "cell_type": "code",
   "execution_count": 2,
   "id": "2f425995",
   "metadata": {},
   "outputs": [],
   "source": [
    "train = pd.read_pickle('../../data/processed/train.pkl')\n",
    "test = pd.read_pickle('../../data/processed/test.pkl')"
   ]
  },
  {
   "cell_type": "code",
   "execution_count": 3,
   "id": "d849198a",
   "metadata": {},
   "outputs": [
    {
     "data": {
      "text/html": [
       "<div>\n",
       "<style scoped>\n",
       "    .dataframe tbody tr th:only-of-type {\n",
       "        vertical-align: middle;\n",
       "    }\n",
       "\n",
       "    .dataframe tbody tr th {\n",
       "        vertical-align: top;\n",
       "    }\n",
       "\n",
       "    .dataframe thead th {\n",
       "        text-align: right;\n",
       "    }\n",
       "</style>\n",
       "<table border=\"1\" class=\"dataframe\">\n",
       "  <thead>\n",
       "    <tr style=\"text-align: right;\">\n",
       "      <th></th>\n",
       "      <th>ResponseId</th>\n",
       "      <th>Age</th>\n",
       "      <th>RemoteWork</th>\n",
       "      <th>EdLevel</th>\n",
       "      <th>YearsCode</th>\n",
       "      <th>DevType</th>\n",
       "      <th>Country</th>\n",
       "      <th>LanguageHaveWorkedWith</th>\n",
       "      <th>DatabaseHaveWorkedWith</th>\n",
       "      <th>PlatformHaveWorkedWith</th>\n",
       "      <th>WebframeHaveWorkedWith</th>\n",
       "      <th>MiscTechHaveWorkedWith</th>\n",
       "      <th>ToolsTechHaveWorkedWith</th>\n",
       "      <th>NEWCollabToolsHaveWorkedWith</th>\n",
       "      <th>OpSysPersonal use</th>\n",
       "      <th>OfficeStackAsyncHaveWorkedWith</th>\n",
       "      <th>OfficeStackSyncHaveWorkedWith</th>\n",
       "    </tr>\n",
       "  </thead>\n",
       "  <tbody>\n",
       "    <tr>\n",
       "      <th>59619</th>\n",
       "      <td>59620</td>\n",
       "      <td>18-24 years old</td>\n",
       "      <td>Hybrid (some remote, some in-person)</td>\n",
       "      <td>Secondary school (e.g. American high school, G...</td>\n",
       "      <td>10.0</td>\n",
       "      <td>Developer, full-stack</td>\n",
       "      <td>Germany</td>\n",
       "      <td>HTML/CSS;Java;JavaScript;PHP;TypeScript</td>\n",
       "      <td>MySQL</td>\n",
       "      <td>Null</td>\n",
       "      <td>Angular;jQuery;Node.js</td>\n",
       "      <td>.NET Framework (1.0 - 4.8)</td>\n",
       "      <td>Gradle</td>\n",
       "      <td>Eclipse;IntelliJ IDEA;Notepad++;Visual Studio</td>\n",
       "      <td>Other Linux-based;Windows</td>\n",
       "      <td>Confluence;Jira</td>\n",
       "      <td>Discord;Microsoft Teams;Whatsapp</td>\n",
       "    </tr>\n",
       "    <tr>\n",
       "      <th>67822</th>\n",
       "      <td>67823</td>\n",
       "      <td>35-44 years old</td>\n",
       "      <td>Remote</td>\n",
       "      <td>Bachelor’s degree (B.A., B.S., B.Eng., etc.)</td>\n",
       "      <td>20.0</td>\n",
       "      <td>Developer, front-end</td>\n",
       "      <td>United States of America</td>\n",
       "      <td>HTML/CSS;JavaScript;TypeScript</td>\n",
       "      <td>Null</td>\n",
       "      <td>Netlify;Oracle Cloud Infrastructure (OCI)</td>\n",
       "      <td>Angular;AngularJS;jQuery;Next.js;Node.js;Play ...</td>\n",
       "      <td>Ionic;React Native</td>\n",
       "      <td>Chocolatey;Homebrew;Webpack;Yarn</td>\n",
       "      <td>Visual Studio Code</td>\n",
       "      <td>MacOS;Windows</td>\n",
       "      <td>Jira</td>\n",
       "      <td>Slack;Telegram;Whatsapp;Zoom</td>\n",
       "    </tr>\n",
       "    <tr>\n",
       "      <th>15787</th>\n",
       "      <td>15788</td>\n",
       "      <td>25-34 years old</td>\n",
       "      <td>Remote</td>\n",
       "      <td>Master’s degree (M.A., M.S., M.Eng., MBA, etc.)</td>\n",
       "      <td>22.0</td>\n",
       "      <td>Developer, full-stack</td>\n",
       "      <td>Germany</td>\n",
       "      <td>GDScript;Kotlin;TypeScript</td>\n",
       "      <td>Dynamodb;SQLite</td>\n",
       "      <td>Amazon Web Services (AWS)</td>\n",
       "      <td>React</td>\n",
       "      <td>Null</td>\n",
       "      <td>Godot</td>\n",
       "      <td>IntelliJ IDEA</td>\n",
       "      <td>MacOS;Windows</td>\n",
       "      <td>Confluence;Jira;Markdown File;Miro;Wikis</td>\n",
       "      <td>Microsoft Teams;Slack;Zoom</td>\n",
       "    </tr>\n",
       "    <tr>\n",
       "      <th>13527</th>\n",
       "      <td>13528</td>\n",
       "      <td>25-34 years old</td>\n",
       "      <td>Hybrid (some remote, some in-person)</td>\n",
       "      <td>Master’s degree (M.A., M.S., M.Eng., MBA, etc.)</td>\n",
       "      <td>11.0</td>\n",
       "      <td>Developer, mobile</td>\n",
       "      <td>Denmark</td>\n",
       "      <td>C++;Dart;Java;Kotlin;Objective-C;Swift</td>\n",
       "      <td>Null</td>\n",
       "      <td>Null</td>\n",
       "      <td>Null</td>\n",
       "      <td>Flutter;React Native;SwiftUI;Xamarin</td>\n",
       "      <td>Dagger;Gradle;Homebrew;Maven (build tool);NuGet</td>\n",
       "      <td>Android Studio;IntelliJ IDEA;Sublime Text;Visu...</td>\n",
       "      <td>Android;MacOS;Windows</td>\n",
       "      <td>Asana;Confluence;Doxygen;Jira;Markdown File</td>\n",
       "      <td>Discord;Google Meet;Slack</td>\n",
       "    </tr>\n",
       "    <tr>\n",
       "      <th>22192</th>\n",
       "      <td>22193</td>\n",
       "      <td>35-44 years old</td>\n",
       "      <td>Hybrid (some remote, some in-person)</td>\n",
       "      <td>Professional degree (JD, MD, Ph.D, Ed.D, etc.)</td>\n",
       "      <td>22.0</td>\n",
       "      <td>Research &amp; Development role</td>\n",
       "      <td>Germany</td>\n",
       "      <td>Bash/Shell (all shells);Python;R</td>\n",
       "      <td>MongoDB;MySQL;PostgreSQL;SQLite</td>\n",
       "      <td>Amazon Web Services (AWS);Microsoft Azure</td>\n",
       "      <td>Flask</td>\n",
       "      <td>Apache Spark;Hugging Face Transformers;Keras;N...</td>\n",
       "      <td>Docker;Homebrew</td>\n",
       "      <td>IPython;Jupyter Notebook/JupyterLab;Visual Stu...</td>\n",
       "      <td>MacOS;Ubuntu;Windows</td>\n",
       "      <td>Null</td>\n",
       "      <td>Zoom</td>\n",
       "    </tr>\n",
       "  </tbody>\n",
       "</table>\n",
       "</div>"
      ],
      "text/plain": [
       "       ResponseId              Age                            RemoteWork  \\\n",
       "59619       59620  18-24 years old  Hybrid (some remote, some in-person)   \n",
       "67822       67823  35-44 years old                                Remote   \n",
       "15787       15788  25-34 years old                                Remote   \n",
       "13527       13528  25-34 years old  Hybrid (some remote, some in-person)   \n",
       "22192       22193  35-44 years old  Hybrid (some remote, some in-person)   \n",
       "\n",
       "                                                 EdLevel  YearsCode  \\\n",
       "59619  Secondary school (e.g. American high school, G...       10.0   \n",
       "67822       Bachelor’s degree (B.A., B.S., B.Eng., etc.)       20.0   \n",
       "15787    Master’s degree (M.A., M.S., M.Eng., MBA, etc.)       22.0   \n",
       "13527    Master’s degree (M.A., M.S., M.Eng., MBA, etc.)       11.0   \n",
       "22192     Professional degree (JD, MD, Ph.D, Ed.D, etc.)       22.0   \n",
       "\n",
       "                           DevType                   Country  \\\n",
       "59619        Developer, full-stack                   Germany   \n",
       "67822         Developer, front-end  United States of America   \n",
       "15787        Developer, full-stack                   Germany   \n",
       "13527            Developer, mobile                   Denmark   \n",
       "22192  Research & Development role                   Germany   \n",
       "\n",
       "                        LanguageHaveWorkedWith  \\\n",
       "59619  HTML/CSS;Java;JavaScript;PHP;TypeScript   \n",
       "67822           HTML/CSS;JavaScript;TypeScript   \n",
       "15787               GDScript;Kotlin;TypeScript   \n",
       "13527   C++;Dart;Java;Kotlin;Objective-C;Swift   \n",
       "22192         Bash/Shell (all shells);Python;R   \n",
       "\n",
       "                DatabaseHaveWorkedWith  \\\n",
       "59619                            MySQL   \n",
       "67822                             Null   \n",
       "15787                  Dynamodb;SQLite   \n",
       "13527                             Null   \n",
       "22192  MongoDB;MySQL;PostgreSQL;SQLite   \n",
       "\n",
       "                          PlatformHaveWorkedWith  \\\n",
       "59619                                       Null   \n",
       "67822  Netlify;Oracle Cloud Infrastructure (OCI)   \n",
       "15787                  Amazon Web Services (AWS)   \n",
       "13527                                       Null   \n",
       "22192  Amazon Web Services (AWS);Microsoft Azure   \n",
       "\n",
       "                                  WebframeHaveWorkedWith  \\\n",
       "59619                             Angular;jQuery;Node.js   \n",
       "67822  Angular;AngularJS;jQuery;Next.js;Node.js;Play ...   \n",
       "15787                                              React   \n",
       "13527                                               Null   \n",
       "22192                                              Flask   \n",
       "\n",
       "                                  MiscTechHaveWorkedWith  \\\n",
       "59619                         .NET Framework (1.0 - 4.8)   \n",
       "67822                                 Ionic;React Native   \n",
       "15787                                               Null   \n",
       "13527               Flutter;React Native;SwiftUI;Xamarin   \n",
       "22192  Apache Spark;Hugging Face Transformers;Keras;N...   \n",
       "\n",
       "                               ToolsTechHaveWorkedWith  \\\n",
       "59619                                           Gradle   \n",
       "67822                 Chocolatey;Homebrew;Webpack;Yarn   \n",
       "15787                                            Godot   \n",
       "13527  Dagger;Gradle;Homebrew;Maven (build tool);NuGet   \n",
       "22192                                  Docker;Homebrew   \n",
       "\n",
       "                            NEWCollabToolsHaveWorkedWith  \\\n",
       "59619      Eclipse;IntelliJ IDEA;Notepad++;Visual Studio   \n",
       "67822                                 Visual Studio Code   \n",
       "15787                                      IntelliJ IDEA   \n",
       "13527  Android Studio;IntelliJ IDEA;Sublime Text;Visu...   \n",
       "22192  IPython;Jupyter Notebook/JupyterLab;Visual Stu...   \n",
       "\n",
       "               OpSysPersonal use               OfficeStackAsyncHaveWorkedWith  \\\n",
       "59619  Other Linux-based;Windows                              Confluence;Jira   \n",
       "67822              MacOS;Windows                                         Jira   \n",
       "15787              MacOS;Windows     Confluence;Jira;Markdown File;Miro;Wikis   \n",
       "13527      Android;MacOS;Windows  Asana;Confluence;Doxygen;Jira;Markdown File   \n",
       "22192       MacOS;Ubuntu;Windows                                         Null   \n",
       "\n",
       "          OfficeStackSyncHaveWorkedWith  \n",
       "59619  Discord;Microsoft Teams;Whatsapp  \n",
       "67822      Slack;Telegram;Whatsapp;Zoom  \n",
       "15787        Microsoft Teams;Slack;Zoom  \n",
       "13527         Discord;Google Meet;Slack  \n",
       "22192                              Zoom  "
      ]
     },
     "execution_count": 3,
     "metadata": {},
     "output_type": "execute_result"
    }
   ],
   "source": [
    "train.head()"
   ]
  },
  {
   "cell_type": "code",
   "execution_count": 4,
   "id": "3d3fa463",
   "metadata": {},
   "outputs": [
    {
     "data": {
      "text/html": [
       "<div>\n",
       "<style scoped>\n",
       "    .dataframe tbody tr th:only-of-type {\n",
       "        vertical-align: middle;\n",
       "    }\n",
       "\n",
       "    .dataframe tbody tr th {\n",
       "        vertical-align: top;\n",
       "    }\n",
       "\n",
       "    .dataframe thead th {\n",
       "        text-align: right;\n",
       "    }\n",
       "</style>\n",
       "<table border=\"1\" class=\"dataframe\">\n",
       "  <thead>\n",
       "    <tr style=\"text-align: right;\">\n",
       "      <th></th>\n",
       "      <th>ResponseId</th>\n",
       "      <th>Age</th>\n",
       "      <th>RemoteWork</th>\n",
       "      <th>EdLevel</th>\n",
       "      <th>YearsCode</th>\n",
       "      <th>DevType</th>\n",
       "      <th>Country</th>\n",
       "      <th>LanguageHaveWorkedWith</th>\n",
       "      <th>DatabaseHaveWorkedWith</th>\n",
       "      <th>PlatformHaveWorkedWith</th>\n",
       "      <th>WebframeHaveWorkedWith</th>\n",
       "      <th>MiscTechHaveWorkedWith</th>\n",
       "      <th>ToolsTechHaveWorkedWith</th>\n",
       "      <th>NEWCollabToolsHaveWorkedWith</th>\n",
       "      <th>OpSysPersonal use</th>\n",
       "      <th>OfficeStackAsyncHaveWorkedWith</th>\n",
       "      <th>OfficeStackSyncHaveWorkedWith</th>\n",
       "    </tr>\n",
       "  </thead>\n",
       "  <tbody>\n",
       "    <tr>\n",
       "      <th>84079</th>\n",
       "      <td>84080</td>\n",
       "      <td>25-34 years old</td>\n",
       "      <td>Hybrid (some remote, some in-person)</td>\n",
       "      <td>Bachelor’s degree (B.A., B.S., B.Eng., etc.)</td>\n",
       "      <td>8.0</td>\n",
       "      <td>Developer, full-stack</td>\n",
       "      <td>United Republic of Tanzania</td>\n",
       "      <td>Bash/Shell (all shells);HTML/CSS;Java;JavaScri...</td>\n",
       "      <td>Elasticsearch;Firebase Realtime Database;H2;Ma...</td>\n",
       "      <td>Amazon Web Services (AWS);Cloudflare;Digital O...</td>\n",
       "      <td>Angular;CodeIgniter;Laravel;Spring Boot;Vue.js</td>\n",
       "      <td>Spring Framework</td>\n",
       "      <td>Composer;Docker;Homebrew;Maven (build tool);np...</td>\n",
       "      <td>Android Studio;DataGrip;PhpStorm;PyCharm;Subli...</td>\n",
       "      <td>Android;iOS;MacOS;Ubuntu</td>\n",
       "      <td>Jira;Microsoft Planner</td>\n",
       "      <td>Cisco Webex Teams;Google Meet;Microsoft Teams;...</td>\n",
       "    </tr>\n",
       "    <tr>\n",
       "      <th>55952</th>\n",
       "      <td>55953</td>\n",
       "      <td>25-34 years old</td>\n",
       "      <td>Hybrid (some remote, some in-person)</td>\n",
       "      <td>Master’s degree (M.A., M.S., M.Eng., MBA, etc.)</td>\n",
       "      <td>10.0</td>\n",
       "      <td>Data scientist or machine learning specialist</td>\n",
       "      <td>Iran, Islamic Republic of...</td>\n",
       "      <td>C;C++;Go;Haskell;HTML/CSS;JavaScript;PHP;Pytho...</td>\n",
       "      <td>MySQL;PostgreSQL;SQLite</td>\n",
       "      <td>Amazon Web Services (AWS);Cloudflare;Digital O...</td>\n",
       "      <td>Django;Flask;jQuery</td>\n",
       "      <td>CUDA;Hugging Face Transformers;Keras;NumPy;Ope...</td>\n",
       "      <td>CMake;Docker;Homebrew;Make;Pip</td>\n",
       "      <td>Atom;CLion;Eclipse;Goland;IntelliJ IDEA;Jupyte...</td>\n",
       "      <td>Android;MacOS;Ubuntu</td>\n",
       "      <td>Clickup;Confluence;GitHub Discussions;Notion;T...</td>\n",
       "      <td>Discord;Google Chat;Google Meet;Microsoft Team...</td>\n",
       "    </tr>\n",
       "    <tr>\n",
       "      <th>84571</th>\n",
       "      <td>84572</td>\n",
       "      <td>55-64 years old</td>\n",
       "      <td>Hybrid (some remote, some in-person)</td>\n",
       "      <td>Bachelor’s degree (B.A., B.S., B.Eng., etc.)</td>\n",
       "      <td>33.0</td>\n",
       "      <td>Developer, desktop or enterprise applications</td>\n",
       "      <td>Netherlands</td>\n",
       "      <td>C#;Delphi;HTML/CSS;JavaScript;PHP;Python;SQL;T...</td>\n",
       "      <td>Elasticsearch;Firebase Realtime Database;Micro...</td>\n",
       "      <td>Amazon Web Services (AWS);Firebase</td>\n",
       "      <td>Angular;AngularJS;ASP.NET CORE;jQuery;React;Vu...</td>\n",
       "      <td>.NET Framework (1.0 - 4.8)</td>\n",
       "      <td>Docker;MSBuild;npm;NuGet</td>\n",
       "      <td>Notepad++;Rad Studio (Delphi, C++ Builder);Vis...</td>\n",
       "      <td>Windows</td>\n",
       "      <td>Jira;Trello</td>\n",
       "      <td>Google Meet;Slack;Whatsapp;Zoom</td>\n",
       "    </tr>\n",
       "    <tr>\n",
       "      <th>61922</th>\n",
       "      <td>61923</td>\n",
       "      <td>Under 18 years old</td>\n",
       "      <td>In-person</td>\n",
       "      <td>Secondary school (e.g. American high school, G...</td>\n",
       "      <td>7.0</td>\n",
       "      <td>Student</td>\n",
       "      <td>United States of America</td>\n",
       "      <td>HTML/CSS;JavaScript;Lua;PowerShell;Python;R;Ru...</td>\n",
       "      <td>Null</td>\n",
       "      <td>Null</td>\n",
       "      <td>Deno;Express;Node.js;Svelte</td>\n",
       "      <td>Electron</td>\n",
       "      <td>Cargo;npm;Pip;Vite</td>\n",
       "      <td>Visual Studio Code</td>\n",
       "      <td>ChromeOS;Fedora;Windows</td>\n",
       "      <td>Null</td>\n",
       "      <td>Google Chat</td>\n",
       "    </tr>\n",
       "    <tr>\n",
       "      <th>51441</th>\n",
       "      <td>51442</td>\n",
       "      <td>25-34 years old</td>\n",
       "      <td>Null</td>\n",
       "      <td>Master’s degree (M.A., M.S., M.Eng., MBA, etc.)</td>\n",
       "      <td>10.0</td>\n",
       "      <td>Null</td>\n",
       "      <td>Bangladesh</td>\n",
       "      <td>Bash/Shell (all shells);HTML/CSS;JavaScript;Py...</td>\n",
       "      <td>Null</td>\n",
       "      <td>IBM Cloud Or Watson</td>\n",
       "      <td>Next.js;React;WordPress</td>\n",
       "      <td>Pandas</td>\n",
       "      <td>Chocolatey;Homebrew;Pip;Visual Studio Solution...</td>\n",
       "      <td>Android Studio</td>\n",
       "      <td>MacOS;Windows</td>\n",
       "      <td>Null</td>\n",
       "      <td>Discord;Google Meet;Slack;Telegram;Whatsapp;Zoom</td>\n",
       "    </tr>\n",
       "  </tbody>\n",
       "</table>\n",
       "</div>"
      ],
      "text/plain": [
       "       ResponseId                 Age                            RemoteWork  \\\n",
       "84079       84080     25-34 years old  Hybrid (some remote, some in-person)   \n",
       "55952       55953     25-34 years old  Hybrid (some remote, some in-person)   \n",
       "84571       84572     55-64 years old  Hybrid (some remote, some in-person)   \n",
       "61922       61923  Under 18 years old                             In-person   \n",
       "51441       51442     25-34 years old                                  Null   \n",
       "\n",
       "                                                 EdLevel  YearsCode  \\\n",
       "84079       Bachelor’s degree (B.A., B.S., B.Eng., etc.)        8.0   \n",
       "55952    Master’s degree (M.A., M.S., M.Eng., MBA, etc.)       10.0   \n",
       "84571       Bachelor’s degree (B.A., B.S., B.Eng., etc.)       33.0   \n",
       "61922  Secondary school (e.g. American high school, G...        7.0   \n",
       "51441    Master’s degree (M.A., M.S., M.Eng., MBA, etc.)       10.0   \n",
       "\n",
       "                                             DevType  \\\n",
       "84079                          Developer, full-stack   \n",
       "55952  Data scientist or machine learning specialist   \n",
       "84571  Developer, desktop or enterprise applications   \n",
       "61922                                        Student   \n",
       "51441                                           Null   \n",
       "\n",
       "                            Country  \\\n",
       "84079   United Republic of Tanzania   \n",
       "55952  Iran, Islamic Republic of...   \n",
       "84571                   Netherlands   \n",
       "61922      United States of America   \n",
       "51441                    Bangladesh   \n",
       "\n",
       "                                  LanguageHaveWorkedWith  \\\n",
       "84079  Bash/Shell (all shells);HTML/CSS;Java;JavaScri...   \n",
       "55952  C;C++;Go;Haskell;HTML/CSS;JavaScript;PHP;Pytho...   \n",
       "84571  C#;Delphi;HTML/CSS;JavaScript;PHP;Python;SQL;T...   \n",
       "61922  HTML/CSS;JavaScript;Lua;PowerShell;Python;R;Ru...   \n",
       "51441  Bash/Shell (all shells);HTML/CSS;JavaScript;Py...   \n",
       "\n",
       "                                  DatabaseHaveWorkedWith  \\\n",
       "84079  Elasticsearch;Firebase Realtime Database;H2;Ma...   \n",
       "55952                            MySQL;PostgreSQL;SQLite   \n",
       "84571  Elasticsearch;Firebase Realtime Database;Micro...   \n",
       "61922                                               Null   \n",
       "51441                                               Null   \n",
       "\n",
       "                                  PlatformHaveWorkedWith  \\\n",
       "84079  Amazon Web Services (AWS);Cloudflare;Digital O...   \n",
       "55952  Amazon Web Services (AWS);Cloudflare;Digital O...   \n",
       "84571                 Amazon Web Services (AWS);Firebase   \n",
       "61922                                               Null   \n",
       "51441                                IBM Cloud Or Watson   \n",
       "\n",
       "                                  WebframeHaveWorkedWith  \\\n",
       "84079     Angular;CodeIgniter;Laravel;Spring Boot;Vue.js   \n",
       "55952                                Django;Flask;jQuery   \n",
       "84571  Angular;AngularJS;ASP.NET CORE;jQuery;React;Vu...   \n",
       "61922                        Deno;Express;Node.js;Svelte   \n",
       "51441                            Next.js;React;WordPress   \n",
       "\n",
       "                                  MiscTechHaveWorkedWith  \\\n",
       "84079                                   Spring Framework   \n",
       "55952  CUDA;Hugging Face Transformers;Keras;NumPy;Ope...   \n",
       "84571                         .NET Framework (1.0 - 4.8)   \n",
       "61922                                           Electron   \n",
       "51441                                             Pandas   \n",
       "\n",
       "                                 ToolsTechHaveWorkedWith  \\\n",
       "84079  Composer;Docker;Homebrew;Maven (build tool);np...   \n",
       "55952                     CMake;Docker;Homebrew;Make;Pip   \n",
       "84571                           Docker;MSBuild;npm;NuGet   \n",
       "61922                                 Cargo;npm;Pip;Vite   \n",
       "51441  Chocolatey;Homebrew;Pip;Visual Studio Solution...   \n",
       "\n",
       "                            NEWCollabToolsHaveWorkedWith  \\\n",
       "84079  Android Studio;DataGrip;PhpStorm;PyCharm;Subli...   \n",
       "55952  Atom;CLion;Eclipse;Goland;IntelliJ IDEA;Jupyte...   \n",
       "84571  Notepad++;Rad Studio (Delphi, C++ Builder);Vis...   \n",
       "61922                                 Visual Studio Code   \n",
       "51441                                     Android Studio   \n",
       "\n",
       "              OpSysPersonal use  \\\n",
       "84079  Android;iOS;MacOS;Ubuntu   \n",
       "55952      Android;MacOS;Ubuntu   \n",
       "84571                   Windows   \n",
       "61922   ChromeOS;Fedora;Windows   \n",
       "51441             MacOS;Windows   \n",
       "\n",
       "                          OfficeStackAsyncHaveWorkedWith  \\\n",
       "84079                             Jira;Microsoft Planner   \n",
       "55952  Clickup;Confluence;GitHub Discussions;Notion;T...   \n",
       "84571                                        Jira;Trello   \n",
       "61922                                               Null   \n",
       "51441                                               Null   \n",
       "\n",
       "                           OfficeStackSyncHaveWorkedWith  \n",
       "84079  Cisco Webex Teams;Google Meet;Microsoft Teams;...  \n",
       "55952  Discord;Google Chat;Google Meet;Microsoft Team...  \n",
       "84571                    Google Meet;Slack;Whatsapp;Zoom  \n",
       "61922                                        Google Chat  \n",
       "51441   Discord;Google Meet;Slack;Telegram;Whatsapp;Zoom  "
      ]
     },
     "execution_count": 4,
     "metadata": {},
     "output_type": "execute_result"
    }
   ],
   "source": [
    "test.head()"
   ]
  },
  {
   "attachments": {},
   "cell_type": "markdown",
   "id": "f59e32c9",
   "metadata": {},
   "source": [
    "# IV. Feature Engineering"
   ]
  },
  {
   "attachments": {},
   "cell_type": "markdown",
   "id": "db0a5756",
   "metadata": {},
   "source": [
    "## IV.A. Data Shape Inspection"
   ]
  },
  {
   "cell_type": "code",
   "execution_count": 5,
   "id": "aad7798b",
   "metadata": {},
   "outputs": [
    {
     "data": {
      "text/plain": [
       "((51635, 17), (22130, 17))"
      ]
     },
     "execution_count": 5,
     "metadata": {},
     "output_type": "execute_result"
    }
   ],
   "source": [
    "train.shape, test.shape"
   ]
  },
  {
   "attachments": {},
   "cell_type": "markdown",
   "id": "3389b1bf",
   "metadata": {},
   "source": [
    "## IV.B. Data Information Inspection"
   ]
  },
  {
   "cell_type": "code",
   "execution_count": 6,
   "id": "c6d7319a",
   "metadata": {},
   "outputs": [
    {
     "name": "stdout",
     "output_type": "stream",
     "text": [
      "<class 'pandas.core.frame.DataFrame'>\n",
      "Index: 51635 entries, 59619 to 76007\n",
      "Data columns (total 17 columns):\n",
      " #   Column                          Non-Null Count  Dtype  \n",
      "---  ------                          --------------  -----  \n",
      " 0   ResponseId                      51635 non-null  int64  \n",
      " 1   Age                             51635 non-null  object \n",
      " 2   RemoteWork                      51635 non-null  object \n",
      " 3   EdLevel                         51635 non-null  object \n",
      " 4   YearsCode                       51635 non-null  float64\n",
      " 5   DevType                         51635 non-null  object \n",
      " 6   Country                         51635 non-null  object \n",
      " 7   LanguageHaveWorkedWith          51635 non-null  object \n",
      " 8   DatabaseHaveWorkedWith          51635 non-null  object \n",
      " 9   PlatformHaveWorkedWith          51635 non-null  object \n",
      " 10  WebframeHaveWorkedWith          51635 non-null  object \n",
      " 11  MiscTechHaveWorkedWith          51635 non-null  object \n",
      " 12  ToolsTechHaveWorkedWith         51635 non-null  object \n",
      " 13  NEWCollabToolsHaveWorkedWith    51635 non-null  object \n",
      " 14  OpSysPersonal use               51635 non-null  object \n",
      " 15  OfficeStackAsyncHaveWorkedWith  51635 non-null  object \n",
      " 16  OfficeStackSyncHaveWorkedWith   51635 non-null  object \n",
      "dtypes: float64(1), int64(1), object(15)\n",
      "memory usage: 7.1+ MB\n"
     ]
    }
   ],
   "source": [
    "train.info()"
   ]
  },
  {
   "cell_type": "code",
   "execution_count": 7,
   "id": "fe621948",
   "metadata": {},
   "outputs": [
    {
     "name": "stdout",
     "output_type": "stream",
     "text": [
      "<class 'pandas.core.frame.DataFrame'>\n",
      "Index: 22130 entries, 84079 to 88378\n",
      "Data columns (total 17 columns):\n",
      " #   Column                          Non-Null Count  Dtype  \n",
      "---  ------                          --------------  -----  \n",
      " 0   ResponseId                      22130 non-null  int64  \n",
      " 1   Age                             22130 non-null  object \n",
      " 2   RemoteWork                      22130 non-null  object \n",
      " 3   EdLevel                         22130 non-null  object \n",
      " 4   YearsCode                       22130 non-null  float64\n",
      " 5   DevType                         22130 non-null  object \n",
      " 6   Country                         22130 non-null  object \n",
      " 7   LanguageHaveWorkedWith          22130 non-null  object \n",
      " 8   DatabaseHaveWorkedWith          22130 non-null  object \n",
      " 9   PlatformHaveWorkedWith          22130 non-null  object \n",
      " 10  WebframeHaveWorkedWith          22130 non-null  object \n",
      " 11  MiscTechHaveWorkedWith          22130 non-null  object \n",
      " 12  ToolsTechHaveWorkedWith         22130 non-null  object \n",
      " 13  NEWCollabToolsHaveWorkedWith    22130 non-null  object \n",
      " 14  OpSysPersonal use               22130 non-null  object \n",
      " 15  OfficeStackAsyncHaveWorkedWith  22130 non-null  object \n",
      " 16  OfficeStackSyncHaveWorkedWith   22130 non-null  object \n",
      "dtypes: float64(1), int64(1), object(15)\n",
      "memory usage: 3.0+ MB\n"
     ]
    }
   ],
   "source": [
    "test.info()"
   ]
  },
  {
   "attachments": {},
   "cell_type": "markdown",
   "id": "d9326f5a",
   "metadata": {},
   "source": [
    "## IV.C. Unused Feature Removal"
   ]
  },
  {
   "cell_type": "code",
   "execution_count": 8,
   "id": "71185866",
   "metadata": {},
   "outputs": [],
   "source": [
    "def unused_feat_removal(df, feature_to_remove):\n",
    "    df.drop(columns=feature_to_remove, inplace=True)\n",
    "    return df"
   ]
  },
  {
   "cell_type": "code",
   "execution_count": 9,
   "id": "58b0f751",
   "metadata": {},
   "outputs": [],
   "source": [
    "feature_to_remove = [\"ResponseId\", \"Country\"]"
   ]
  },
  {
   "cell_type": "code",
   "execution_count": 10,
   "id": "1511ebb1",
   "metadata": {},
   "outputs": [
    {
     "data": {
      "text/plain": [
       "((51635, 15), (22130, 15))"
      ]
     },
     "execution_count": 10,
     "metadata": {},
     "output_type": "execute_result"
    }
   ],
   "source": [
    "unused_feat_removal(train, feature_to_remove)\n",
    "unused_feat_removal(test, feature_to_remove)\n",
    "train.shape, test.shape"
   ]
  },
  {
   "cell_type": "code",
   "execution_count": 11,
   "id": "9eb26492",
   "metadata": {},
   "outputs": [
    {
     "data": {
      "text/html": [
       "<div>\n",
       "<style scoped>\n",
       "    .dataframe tbody tr th:only-of-type {\n",
       "        vertical-align: middle;\n",
       "    }\n",
       "\n",
       "    .dataframe tbody tr th {\n",
       "        vertical-align: top;\n",
       "    }\n",
       "\n",
       "    .dataframe thead th {\n",
       "        text-align: right;\n",
       "    }\n",
       "</style>\n",
       "<table border=\"1\" class=\"dataframe\">\n",
       "  <thead>\n",
       "    <tr style=\"text-align: right;\">\n",
       "      <th></th>\n",
       "      <th>Age</th>\n",
       "      <th>RemoteWork</th>\n",
       "      <th>EdLevel</th>\n",
       "      <th>YearsCode</th>\n",
       "      <th>DevType</th>\n",
       "      <th>LanguageHaveWorkedWith</th>\n",
       "      <th>DatabaseHaveWorkedWith</th>\n",
       "      <th>PlatformHaveWorkedWith</th>\n",
       "      <th>WebframeHaveWorkedWith</th>\n",
       "      <th>MiscTechHaveWorkedWith</th>\n",
       "      <th>ToolsTechHaveWorkedWith</th>\n",
       "      <th>NEWCollabToolsHaveWorkedWith</th>\n",
       "      <th>OpSysPersonal use</th>\n",
       "      <th>OfficeStackAsyncHaveWorkedWith</th>\n",
       "      <th>OfficeStackSyncHaveWorkedWith</th>\n",
       "    </tr>\n",
       "  </thead>\n",
       "  <tbody>\n",
       "    <tr>\n",
       "      <th>59619</th>\n",
       "      <td>18-24 years old</td>\n",
       "      <td>Hybrid (some remote, some in-person)</td>\n",
       "      <td>Secondary school (e.g. American high school, G...</td>\n",
       "      <td>10.0</td>\n",
       "      <td>Developer, full-stack</td>\n",
       "      <td>HTML/CSS;Java;JavaScript;PHP;TypeScript</td>\n",
       "      <td>MySQL</td>\n",
       "      <td>Null</td>\n",
       "      <td>Angular;jQuery;Node.js</td>\n",
       "      <td>.NET Framework (1.0 - 4.8)</td>\n",
       "      <td>Gradle</td>\n",
       "      <td>Eclipse;IntelliJ IDEA;Notepad++;Visual Studio</td>\n",
       "      <td>Other Linux-based;Windows</td>\n",
       "      <td>Confluence;Jira</td>\n",
       "      <td>Discord;Microsoft Teams;Whatsapp</td>\n",
       "    </tr>\n",
       "    <tr>\n",
       "      <th>67822</th>\n",
       "      <td>35-44 years old</td>\n",
       "      <td>Remote</td>\n",
       "      <td>Bachelor’s degree (B.A., B.S., B.Eng., etc.)</td>\n",
       "      <td>20.0</td>\n",
       "      <td>Developer, front-end</td>\n",
       "      <td>HTML/CSS;JavaScript;TypeScript</td>\n",
       "      <td>Null</td>\n",
       "      <td>Netlify;Oracle Cloud Infrastructure (OCI)</td>\n",
       "      <td>Angular;AngularJS;jQuery;Next.js;Node.js;Play ...</td>\n",
       "      <td>Ionic;React Native</td>\n",
       "      <td>Chocolatey;Homebrew;Webpack;Yarn</td>\n",
       "      <td>Visual Studio Code</td>\n",
       "      <td>MacOS;Windows</td>\n",
       "      <td>Jira</td>\n",
       "      <td>Slack;Telegram;Whatsapp;Zoom</td>\n",
       "    </tr>\n",
       "    <tr>\n",
       "      <th>15787</th>\n",
       "      <td>25-34 years old</td>\n",
       "      <td>Remote</td>\n",
       "      <td>Master’s degree (M.A., M.S., M.Eng., MBA, etc.)</td>\n",
       "      <td>22.0</td>\n",
       "      <td>Developer, full-stack</td>\n",
       "      <td>GDScript;Kotlin;TypeScript</td>\n",
       "      <td>Dynamodb;SQLite</td>\n",
       "      <td>Amazon Web Services (AWS)</td>\n",
       "      <td>React</td>\n",
       "      <td>Null</td>\n",
       "      <td>Godot</td>\n",
       "      <td>IntelliJ IDEA</td>\n",
       "      <td>MacOS;Windows</td>\n",
       "      <td>Confluence;Jira;Markdown File;Miro;Wikis</td>\n",
       "      <td>Microsoft Teams;Slack;Zoom</td>\n",
       "    </tr>\n",
       "    <tr>\n",
       "      <th>13527</th>\n",
       "      <td>25-34 years old</td>\n",
       "      <td>Hybrid (some remote, some in-person)</td>\n",
       "      <td>Master’s degree (M.A., M.S., M.Eng., MBA, etc.)</td>\n",
       "      <td>11.0</td>\n",
       "      <td>Developer, mobile</td>\n",
       "      <td>C++;Dart;Java;Kotlin;Objective-C;Swift</td>\n",
       "      <td>Null</td>\n",
       "      <td>Null</td>\n",
       "      <td>Null</td>\n",
       "      <td>Flutter;React Native;SwiftUI;Xamarin</td>\n",
       "      <td>Dagger;Gradle;Homebrew;Maven (build tool);NuGet</td>\n",
       "      <td>Android Studio;IntelliJ IDEA;Sublime Text;Visu...</td>\n",
       "      <td>Android;MacOS;Windows</td>\n",
       "      <td>Asana;Confluence;Doxygen;Jira;Markdown File</td>\n",
       "      <td>Discord;Google Meet;Slack</td>\n",
       "    </tr>\n",
       "    <tr>\n",
       "      <th>22192</th>\n",
       "      <td>35-44 years old</td>\n",
       "      <td>Hybrid (some remote, some in-person)</td>\n",
       "      <td>Professional degree (JD, MD, Ph.D, Ed.D, etc.)</td>\n",
       "      <td>22.0</td>\n",
       "      <td>Research &amp; Development role</td>\n",
       "      <td>Bash/Shell (all shells);Python;R</td>\n",
       "      <td>MongoDB;MySQL;PostgreSQL;SQLite</td>\n",
       "      <td>Amazon Web Services (AWS);Microsoft Azure</td>\n",
       "      <td>Flask</td>\n",
       "      <td>Apache Spark;Hugging Face Transformers;Keras;N...</td>\n",
       "      <td>Docker;Homebrew</td>\n",
       "      <td>IPython;Jupyter Notebook/JupyterLab;Visual Stu...</td>\n",
       "      <td>MacOS;Ubuntu;Windows</td>\n",
       "      <td>Null</td>\n",
       "      <td>Zoom</td>\n",
       "    </tr>\n",
       "  </tbody>\n",
       "</table>\n",
       "</div>"
      ],
      "text/plain": [
       "                   Age                            RemoteWork  \\\n",
       "59619  18-24 years old  Hybrid (some remote, some in-person)   \n",
       "67822  35-44 years old                                Remote   \n",
       "15787  25-34 years old                                Remote   \n",
       "13527  25-34 years old  Hybrid (some remote, some in-person)   \n",
       "22192  35-44 years old  Hybrid (some remote, some in-person)   \n",
       "\n",
       "                                                 EdLevel  YearsCode  \\\n",
       "59619  Secondary school (e.g. American high school, G...       10.0   \n",
       "67822       Bachelor’s degree (B.A., B.S., B.Eng., etc.)       20.0   \n",
       "15787    Master’s degree (M.A., M.S., M.Eng., MBA, etc.)       22.0   \n",
       "13527    Master’s degree (M.A., M.S., M.Eng., MBA, etc.)       11.0   \n",
       "22192     Professional degree (JD, MD, Ph.D, Ed.D, etc.)       22.0   \n",
       "\n",
       "                           DevType                   LanguageHaveWorkedWith  \\\n",
       "59619        Developer, full-stack  HTML/CSS;Java;JavaScript;PHP;TypeScript   \n",
       "67822         Developer, front-end           HTML/CSS;JavaScript;TypeScript   \n",
       "15787        Developer, full-stack               GDScript;Kotlin;TypeScript   \n",
       "13527            Developer, mobile   C++;Dart;Java;Kotlin;Objective-C;Swift   \n",
       "22192  Research & Development role         Bash/Shell (all shells);Python;R   \n",
       "\n",
       "                DatabaseHaveWorkedWith  \\\n",
       "59619                            MySQL   \n",
       "67822                             Null   \n",
       "15787                  Dynamodb;SQLite   \n",
       "13527                             Null   \n",
       "22192  MongoDB;MySQL;PostgreSQL;SQLite   \n",
       "\n",
       "                          PlatformHaveWorkedWith  \\\n",
       "59619                                       Null   \n",
       "67822  Netlify;Oracle Cloud Infrastructure (OCI)   \n",
       "15787                  Amazon Web Services (AWS)   \n",
       "13527                                       Null   \n",
       "22192  Amazon Web Services (AWS);Microsoft Azure   \n",
       "\n",
       "                                  WebframeHaveWorkedWith  \\\n",
       "59619                             Angular;jQuery;Node.js   \n",
       "67822  Angular;AngularJS;jQuery;Next.js;Node.js;Play ...   \n",
       "15787                                              React   \n",
       "13527                                               Null   \n",
       "22192                                              Flask   \n",
       "\n",
       "                                  MiscTechHaveWorkedWith  \\\n",
       "59619                         .NET Framework (1.0 - 4.8)   \n",
       "67822                                 Ionic;React Native   \n",
       "15787                                               Null   \n",
       "13527               Flutter;React Native;SwiftUI;Xamarin   \n",
       "22192  Apache Spark;Hugging Face Transformers;Keras;N...   \n",
       "\n",
       "                               ToolsTechHaveWorkedWith  \\\n",
       "59619                                           Gradle   \n",
       "67822                 Chocolatey;Homebrew;Webpack;Yarn   \n",
       "15787                                            Godot   \n",
       "13527  Dagger;Gradle;Homebrew;Maven (build tool);NuGet   \n",
       "22192                                  Docker;Homebrew   \n",
       "\n",
       "                            NEWCollabToolsHaveWorkedWith  \\\n",
       "59619      Eclipse;IntelliJ IDEA;Notepad++;Visual Studio   \n",
       "67822                                 Visual Studio Code   \n",
       "15787                                      IntelliJ IDEA   \n",
       "13527  Android Studio;IntelliJ IDEA;Sublime Text;Visu...   \n",
       "22192  IPython;Jupyter Notebook/JupyterLab;Visual Stu...   \n",
       "\n",
       "               OpSysPersonal use               OfficeStackAsyncHaveWorkedWith  \\\n",
       "59619  Other Linux-based;Windows                              Confluence;Jira   \n",
       "67822              MacOS;Windows                                         Jira   \n",
       "15787              MacOS;Windows     Confluence;Jira;Markdown File;Miro;Wikis   \n",
       "13527      Android;MacOS;Windows  Asana;Confluence;Doxygen;Jira;Markdown File   \n",
       "22192       MacOS;Ubuntu;Windows                                         Null   \n",
       "\n",
       "          OfficeStackSyncHaveWorkedWith  \n",
       "59619  Discord;Microsoft Teams;Whatsapp  \n",
       "67822      Slack;Telegram;Whatsapp;Zoom  \n",
       "15787        Microsoft Teams;Slack;Zoom  \n",
       "13527         Discord;Google Meet;Slack  \n",
       "22192                              Zoom  "
      ]
     },
     "execution_count": 11,
     "metadata": {},
     "output_type": "execute_result"
    }
   ],
   "source": [
    "train.head()"
   ]
  },
  {
   "cell_type": "code",
   "execution_count": 12,
   "id": "6c33434b",
   "metadata": {},
   "outputs": [
    {
     "data": {
      "text/html": [
       "<div>\n",
       "<style scoped>\n",
       "    .dataframe tbody tr th:only-of-type {\n",
       "        vertical-align: middle;\n",
       "    }\n",
       "\n",
       "    .dataframe tbody tr th {\n",
       "        vertical-align: top;\n",
       "    }\n",
       "\n",
       "    .dataframe thead th {\n",
       "        text-align: right;\n",
       "    }\n",
       "</style>\n",
       "<table border=\"1\" class=\"dataframe\">\n",
       "  <thead>\n",
       "    <tr style=\"text-align: right;\">\n",
       "      <th></th>\n",
       "      <th>Age</th>\n",
       "      <th>RemoteWork</th>\n",
       "      <th>EdLevel</th>\n",
       "      <th>YearsCode</th>\n",
       "      <th>DevType</th>\n",
       "      <th>LanguageHaveWorkedWith</th>\n",
       "      <th>DatabaseHaveWorkedWith</th>\n",
       "      <th>PlatformHaveWorkedWith</th>\n",
       "      <th>WebframeHaveWorkedWith</th>\n",
       "      <th>MiscTechHaveWorkedWith</th>\n",
       "      <th>ToolsTechHaveWorkedWith</th>\n",
       "      <th>NEWCollabToolsHaveWorkedWith</th>\n",
       "      <th>OpSysPersonal use</th>\n",
       "      <th>OfficeStackAsyncHaveWorkedWith</th>\n",
       "      <th>OfficeStackSyncHaveWorkedWith</th>\n",
       "    </tr>\n",
       "  </thead>\n",
       "  <tbody>\n",
       "    <tr>\n",
       "      <th>84079</th>\n",
       "      <td>25-34 years old</td>\n",
       "      <td>Hybrid (some remote, some in-person)</td>\n",
       "      <td>Bachelor’s degree (B.A., B.S., B.Eng., etc.)</td>\n",
       "      <td>8.0</td>\n",
       "      <td>Developer, full-stack</td>\n",
       "      <td>Bash/Shell (all shells);HTML/CSS;Java;JavaScri...</td>\n",
       "      <td>Elasticsearch;Firebase Realtime Database;H2;Ma...</td>\n",
       "      <td>Amazon Web Services (AWS);Cloudflare;Digital O...</td>\n",
       "      <td>Angular;CodeIgniter;Laravel;Spring Boot;Vue.js</td>\n",
       "      <td>Spring Framework</td>\n",
       "      <td>Composer;Docker;Homebrew;Maven (build tool);np...</td>\n",
       "      <td>Android Studio;DataGrip;PhpStorm;PyCharm;Subli...</td>\n",
       "      <td>Android;iOS;MacOS;Ubuntu</td>\n",
       "      <td>Jira;Microsoft Planner</td>\n",
       "      <td>Cisco Webex Teams;Google Meet;Microsoft Teams;...</td>\n",
       "    </tr>\n",
       "    <tr>\n",
       "      <th>55952</th>\n",
       "      <td>25-34 years old</td>\n",
       "      <td>Hybrid (some remote, some in-person)</td>\n",
       "      <td>Master’s degree (M.A., M.S., M.Eng., MBA, etc.)</td>\n",
       "      <td>10.0</td>\n",
       "      <td>Data scientist or machine learning specialist</td>\n",
       "      <td>C;C++;Go;Haskell;HTML/CSS;JavaScript;PHP;Pytho...</td>\n",
       "      <td>MySQL;PostgreSQL;SQLite</td>\n",
       "      <td>Amazon Web Services (AWS);Cloudflare;Digital O...</td>\n",
       "      <td>Django;Flask;jQuery</td>\n",
       "      <td>CUDA;Hugging Face Transformers;Keras;NumPy;Ope...</td>\n",
       "      <td>CMake;Docker;Homebrew;Make;Pip</td>\n",
       "      <td>Atom;CLion;Eclipse;Goland;IntelliJ IDEA;Jupyte...</td>\n",
       "      <td>Android;MacOS;Ubuntu</td>\n",
       "      <td>Clickup;Confluence;GitHub Discussions;Notion;T...</td>\n",
       "      <td>Discord;Google Chat;Google Meet;Microsoft Team...</td>\n",
       "    </tr>\n",
       "    <tr>\n",
       "      <th>84571</th>\n",
       "      <td>55-64 years old</td>\n",
       "      <td>Hybrid (some remote, some in-person)</td>\n",
       "      <td>Bachelor’s degree (B.A., B.S., B.Eng., etc.)</td>\n",
       "      <td>33.0</td>\n",
       "      <td>Developer, desktop or enterprise applications</td>\n",
       "      <td>C#;Delphi;HTML/CSS;JavaScript;PHP;Python;SQL;T...</td>\n",
       "      <td>Elasticsearch;Firebase Realtime Database;Micro...</td>\n",
       "      <td>Amazon Web Services (AWS);Firebase</td>\n",
       "      <td>Angular;AngularJS;ASP.NET CORE;jQuery;React;Vu...</td>\n",
       "      <td>.NET Framework (1.0 - 4.8)</td>\n",
       "      <td>Docker;MSBuild;npm;NuGet</td>\n",
       "      <td>Notepad++;Rad Studio (Delphi, C++ Builder);Vis...</td>\n",
       "      <td>Windows</td>\n",
       "      <td>Jira;Trello</td>\n",
       "      <td>Google Meet;Slack;Whatsapp;Zoom</td>\n",
       "    </tr>\n",
       "    <tr>\n",
       "      <th>61922</th>\n",
       "      <td>Under 18 years old</td>\n",
       "      <td>In-person</td>\n",
       "      <td>Secondary school (e.g. American high school, G...</td>\n",
       "      <td>7.0</td>\n",
       "      <td>Student</td>\n",
       "      <td>HTML/CSS;JavaScript;Lua;PowerShell;Python;R;Ru...</td>\n",
       "      <td>Null</td>\n",
       "      <td>Null</td>\n",
       "      <td>Deno;Express;Node.js;Svelte</td>\n",
       "      <td>Electron</td>\n",
       "      <td>Cargo;npm;Pip;Vite</td>\n",
       "      <td>Visual Studio Code</td>\n",
       "      <td>ChromeOS;Fedora;Windows</td>\n",
       "      <td>Null</td>\n",
       "      <td>Google Chat</td>\n",
       "    </tr>\n",
       "    <tr>\n",
       "      <th>51441</th>\n",
       "      <td>25-34 years old</td>\n",
       "      <td>Null</td>\n",
       "      <td>Master’s degree (M.A., M.S., M.Eng., MBA, etc.)</td>\n",
       "      <td>10.0</td>\n",
       "      <td>Null</td>\n",
       "      <td>Bash/Shell (all shells);HTML/CSS;JavaScript;Py...</td>\n",
       "      <td>Null</td>\n",
       "      <td>IBM Cloud Or Watson</td>\n",
       "      <td>Next.js;React;WordPress</td>\n",
       "      <td>Pandas</td>\n",
       "      <td>Chocolatey;Homebrew;Pip;Visual Studio Solution...</td>\n",
       "      <td>Android Studio</td>\n",
       "      <td>MacOS;Windows</td>\n",
       "      <td>Null</td>\n",
       "      <td>Discord;Google Meet;Slack;Telegram;Whatsapp;Zoom</td>\n",
       "    </tr>\n",
       "  </tbody>\n",
       "</table>\n",
       "</div>"
      ],
      "text/plain": [
       "                      Age                            RemoteWork  \\\n",
       "84079     25-34 years old  Hybrid (some remote, some in-person)   \n",
       "55952     25-34 years old  Hybrid (some remote, some in-person)   \n",
       "84571     55-64 years old  Hybrid (some remote, some in-person)   \n",
       "61922  Under 18 years old                             In-person   \n",
       "51441     25-34 years old                                  Null   \n",
       "\n",
       "                                                 EdLevel  YearsCode  \\\n",
       "84079       Bachelor’s degree (B.A., B.S., B.Eng., etc.)        8.0   \n",
       "55952    Master’s degree (M.A., M.S., M.Eng., MBA, etc.)       10.0   \n",
       "84571       Bachelor’s degree (B.A., B.S., B.Eng., etc.)       33.0   \n",
       "61922  Secondary school (e.g. American high school, G...        7.0   \n",
       "51441    Master’s degree (M.A., M.S., M.Eng., MBA, etc.)       10.0   \n",
       "\n",
       "                                             DevType  \\\n",
       "84079                          Developer, full-stack   \n",
       "55952  Data scientist or machine learning specialist   \n",
       "84571  Developer, desktop or enterprise applications   \n",
       "61922                                        Student   \n",
       "51441                                           Null   \n",
       "\n",
       "                                  LanguageHaveWorkedWith  \\\n",
       "84079  Bash/Shell (all shells);HTML/CSS;Java;JavaScri...   \n",
       "55952  C;C++;Go;Haskell;HTML/CSS;JavaScript;PHP;Pytho...   \n",
       "84571  C#;Delphi;HTML/CSS;JavaScript;PHP;Python;SQL;T...   \n",
       "61922  HTML/CSS;JavaScript;Lua;PowerShell;Python;R;Ru...   \n",
       "51441  Bash/Shell (all shells);HTML/CSS;JavaScript;Py...   \n",
       "\n",
       "                                  DatabaseHaveWorkedWith  \\\n",
       "84079  Elasticsearch;Firebase Realtime Database;H2;Ma...   \n",
       "55952                            MySQL;PostgreSQL;SQLite   \n",
       "84571  Elasticsearch;Firebase Realtime Database;Micro...   \n",
       "61922                                               Null   \n",
       "51441                                               Null   \n",
       "\n",
       "                                  PlatformHaveWorkedWith  \\\n",
       "84079  Amazon Web Services (AWS);Cloudflare;Digital O...   \n",
       "55952  Amazon Web Services (AWS);Cloudflare;Digital O...   \n",
       "84571                 Amazon Web Services (AWS);Firebase   \n",
       "61922                                               Null   \n",
       "51441                                IBM Cloud Or Watson   \n",
       "\n",
       "                                  WebframeHaveWorkedWith  \\\n",
       "84079     Angular;CodeIgniter;Laravel;Spring Boot;Vue.js   \n",
       "55952                                Django;Flask;jQuery   \n",
       "84571  Angular;AngularJS;ASP.NET CORE;jQuery;React;Vu...   \n",
       "61922                        Deno;Express;Node.js;Svelte   \n",
       "51441                            Next.js;React;WordPress   \n",
       "\n",
       "                                  MiscTechHaveWorkedWith  \\\n",
       "84079                                   Spring Framework   \n",
       "55952  CUDA;Hugging Face Transformers;Keras;NumPy;Ope...   \n",
       "84571                         .NET Framework (1.0 - 4.8)   \n",
       "61922                                           Electron   \n",
       "51441                                             Pandas   \n",
       "\n",
       "                                 ToolsTechHaveWorkedWith  \\\n",
       "84079  Composer;Docker;Homebrew;Maven (build tool);np...   \n",
       "55952                     CMake;Docker;Homebrew;Make;Pip   \n",
       "84571                           Docker;MSBuild;npm;NuGet   \n",
       "61922                                 Cargo;npm;Pip;Vite   \n",
       "51441  Chocolatey;Homebrew;Pip;Visual Studio Solution...   \n",
       "\n",
       "                            NEWCollabToolsHaveWorkedWith  \\\n",
       "84079  Android Studio;DataGrip;PhpStorm;PyCharm;Subli...   \n",
       "55952  Atom;CLion;Eclipse;Goland;IntelliJ IDEA;Jupyte...   \n",
       "84571  Notepad++;Rad Studio (Delphi, C++ Builder);Vis...   \n",
       "61922                                 Visual Studio Code   \n",
       "51441                                     Android Studio   \n",
       "\n",
       "              OpSysPersonal use  \\\n",
       "84079  Android;iOS;MacOS;Ubuntu   \n",
       "55952      Android;MacOS;Ubuntu   \n",
       "84571                   Windows   \n",
       "61922   ChromeOS;Fedora;Windows   \n",
       "51441             MacOS;Windows   \n",
       "\n",
       "                          OfficeStackAsyncHaveWorkedWith  \\\n",
       "84079                             Jira;Microsoft Planner   \n",
       "55952  Clickup;Confluence;GitHub Discussions;Notion;T...   \n",
       "84571                                        Jira;Trello   \n",
       "61922                                               Null   \n",
       "51441                                               Null   \n",
       "\n",
       "                           OfficeStackSyncHaveWorkedWith  \n",
       "84079  Cisco Webex Teams;Google Meet;Microsoft Teams;...  \n",
       "55952  Discord;Google Chat;Google Meet;Microsoft Team...  \n",
       "84571                    Google Meet;Slack;Whatsapp;Zoom  \n",
       "61922                                        Google Chat  \n",
       "51441   Discord;Google Meet;Slack;Telegram;Whatsapp;Zoom  "
      ]
     },
     "execution_count": 12,
     "metadata": {},
     "output_type": "execute_result"
    }
   ],
   "source": [
    "test.head()"
   ]
  },
  {
   "attachments": {},
   "cell_type": "markdown",
   "id": "8f9fb485",
   "metadata": {},
   "source": [
    "## IV.D. Feature Scaling"
   ]
  },
  {
   "cell_type": "code",
   "execution_count": null,
   "id": "8085f00d",
   "metadata": {},
   "outputs": [],
   "source": [
    "# Min Max Scaler\n",
    "def minmax_scaler(df_train, df_test, feature_to_scale):\n",
    "    scaler = MinMaxScaler()\n",
    "    scaler.fit(df_train[feature_to_scale])\n",
    "    df_train[feature_to_scale] = scaler.transform(df_train[feature_to_scale])\n",
    "    df_test[feature_to_scale] = scaler.transform(df_test[feature_to_scale])\n",
    "    return df_train, df_test\n",
    "\n",
    "\n",
    "# Standard Scaler\n",
    "def standard_scaler(df_train, df_test, feature_to_scale):\n",
    "    scaler = StandardScaler()\n",
    "    scaler.fit(df_train[feature_to_scale])\n",
    "    df_train[feature_to_scale] = scaler.transform(df_train[feature_to_scale])\n",
    "    df_test[feature_to_scale] = scaler.transform(df_test[feature_to_scale])\n",
    "    return df_train, df_test"
   ]
  },
  {
   "cell_type": "code",
   "execution_count": null,
   "id": "daec3373",
   "metadata": {},
   "outputs": [],
   "source": [
    "feature_to_scale = [\"column_0\", \"column_1\"]"
   ]
  },
  {
   "cell_type": "code",
   "execution_count": null,
   "id": "2c875fc8",
   "metadata": {},
   "outputs": [],
   "source": [
    "# Min Max Scaler\n",
    "X_train, X_test = minmax_scaler(X_train, X_test, feature_to_scale)\n",
    "\n",
    "# Standard Scaler\n",
    "X_train, X_test = standard_scaler(X_train, X_test, feature_to_scale)\n",
    "\n",
    "X_train.shape, X_test.shape"
   ]
  },
  {
   "cell_type": "code",
   "execution_count": null,
   "id": "1279b6e8",
   "metadata": {},
   "outputs": [],
   "source": [
    "X_train.head()"
   ]
  },
  {
   "cell_type": "code",
   "execution_count": null,
   "id": "4ddd72cd",
   "metadata": {},
   "outputs": [],
   "source": [
    "X_test.head()"
   ]
  },
  {
   "attachments": {},
   "cell_type": "markdown",
   "id": "c2bf5697",
   "metadata": {},
   "source": [
    "## IV.E. Specific Feature Engineering"
   ]
  },
  {
   "cell_type": "code",
   "execution_count": null,
   "id": "0aa85812",
   "metadata": {},
   "outputs": [],
   "source": []
  },
  {
   "attachments": {},
   "cell_type": "markdown",
   "id": "2feae1c3",
   "metadata": {},
   "source": [
    "## IV.F. Final Feature Inspection"
   ]
  },
  {
   "cell_type": "code",
   "execution_count": null,
   "id": "4205d53d",
   "metadata": {},
   "outputs": [],
   "source": [
    "X_train.shape, X_test.shape"
   ]
  },
  {
   "cell_type": "code",
   "execution_count": null,
   "id": "033d2ccb",
   "metadata": {},
   "outputs": [],
   "source": [
    "X_train.head()"
   ]
  },
  {
   "cell_type": "code",
   "execution_count": null,
   "id": "3129da35",
   "metadata": {},
   "outputs": [],
   "source": [
    "X_test.head()"
   ]
  },
  {
   "cell_type": "code",
   "execution_count": null,
   "id": "6aebcd16",
   "metadata": {},
   "outputs": [],
   "source": [
    "X_train.info()"
   ]
  },
  {
   "cell_type": "code",
   "execution_count": null,
   "id": "f8a75b34",
   "metadata": {},
   "outputs": [],
   "source": [
    "X_test.info()"
   ]
  },
  {
   "attachments": {},
   "cell_type": "markdown",
   "id": "9c656993",
   "metadata": {},
   "source": [
    "# V. Feature Selection"
   ]
  },
  {
   "attachments": {},
   "cell_type": "markdown",
   "id": "3152d60d",
   "metadata": {},
   "source": [
    "## V.A. Feature Optimal Binning"
   ]
  },
  {
   "cell_type": "code",
   "execution_count": null,
   "id": "68e4d94d",
   "metadata": {},
   "outputs": [],
   "source": [
    "feature = list(X_train.columns)\n",
    "categorical_feature = [\"column_0\", \"column_1\"]\n",
    "X = X_train[feature]\n",
    "y = y_train[\"target_label\"].values\n",
    "selection_criteria = {\n",
    "    \"iv\": {\n",
    "        \"min\": 0.02,\n",
    "        \"max\": 0.5,\n",
    "        \"strategy\": \"highest\"\n",
    "    }\n",
    "}"
   ]
  },
  {
   "cell_type": "code",
   "execution_count": null,
   "id": "4b09366c",
   "metadata": {},
   "outputs": [],
   "source": [
    "optimal_binning_process = BinningProcess(\n",
    "    feature, categorical_variables=categorical_feature, selection_criteria=selection_criteria)\n",
    "optimal_binning_process.fit(X, y)"
   ]
  },
  {
   "cell_type": "code",
   "execution_count": null,
   "id": "9b5cef0c",
   "metadata": {},
   "outputs": [],
   "source": [
    "optimal_binning_process.information(print_level=2)"
   ]
  },
  {
   "cell_type": "code",
   "execution_count": null,
   "id": "2446870e",
   "metadata": {},
   "outputs": [],
   "source": [
    "optimal_binning_process.summary()"
   ]
  },
  {
   "cell_type": "code",
   "execution_count": null,
   "id": "0c6abd20",
   "metadata": {},
   "outputs": [],
   "source": [
    "feature_optimal_binning_summary = optimal_binning_process.summary()\n",
    "feature_optimal_binning_summary.to_csv(\n",
    "    '../../reports/feature_optimal_binning_summary.csv', index=False)"
   ]
  },
  {
   "attachments": {},
   "cell_type": "markdown",
   "id": "0e81ada4",
   "metadata": {},
   "source": [
    "## V.B. Optimal Binning Details"
   ]
  },
  {
   "attachments": {},
   "cell_type": "markdown",
   "id": "dde23e55",
   "metadata": {},
   "source": [
    "### V.B.1. _Column Name_ Optimal Binning Details"
   ]
  },
  {
   "cell_type": "code",
   "execution_count": null,
   "id": "08f61442",
   "metadata": {},
   "outputs": [],
   "source": [
    "optb = optimal_binning_process.get_binned_variable(\"feature_column_name\")\n",
    "optimal_binning_table_column_name = optb.binning_table.build()\n",
    "optimal_binning_table_column_name.insert(0, \"Variables\", \"feature_column_name\")\n",
    "optb.binning_table.build()"
   ]
  },
  {
   "cell_type": "code",
   "execution_count": null,
   "id": "82ebf0c5",
   "metadata": {},
   "outputs": [],
   "source": [
    "optb.binning_table.plot(metric=\"event_rate\")"
   ]
  },
  {
   "attachments": {},
   "cell_type": "markdown",
   "id": "f14a0e21",
   "metadata": {},
   "source": [
    "## V.C. Optimal Binning Analysis"
   ]
  },
  {
   "cell_type": "code",
   "execution_count": null,
   "id": "e5c7855a",
   "metadata": {},
   "outputs": [],
   "source": [
    "optimal_binning_table_dict = [\n",
    "    optimal_binning_table_column_0, optimal_binning_table_column_1]\n",
    "optimal_binning_analysis = pd.concat(optimal_binning_table_dict, axis=0)\n",
    "optimal_binning_analysis"
   ]
  },
  {
   "cell_type": "code",
   "execution_count": null,
   "id": "9db1512f",
   "metadata": {},
   "outputs": [],
   "source": [
    "optimal_binning_analysis_dict = {\n",
    "    \"Non-event\": \"Good\", \"Event\": \"Bad\", \"Event rate\": \"Bad Rate\"}\n",
    "bin_to_remove = [\"Special\", \"Missing\"]\n",
    "optimal_binning_analysis.rename(\n",
    "    columns=optimal_binning_analysis_dict, inplace=True)\n",
    "optimal_binning_analysis = optimal_binning_analysis[optimal_binning_analysis.Bin.isin(\n",
    "    bin_to_remove) == False]\n",
    "optimal_binning_analysis"
   ]
  },
  {
   "cell_type": "code",
   "execution_count": null,
   "id": "e4a118a3",
   "metadata": {},
   "outputs": [],
   "source": [
    "optimal_binning_analysis.to_csv(\n",
    "    '../../reports/optimal_binning_analysis.csv', index=False)"
   ]
  },
  {
   "attachments": {},
   "cell_type": "markdown",
   "id": "fd4ee7e9",
   "metadata": {},
   "source": [
    "## V.D. Feature Optimal Binning Weight of Evidence Encoding"
   ]
  },
  {
   "cell_type": "code",
   "execution_count": null,
   "id": "43bb3e09",
   "metadata": {},
   "outputs": [],
   "source": [
    "X_train_woe = optimal_binning_process.transform(X, metric=\"woe\")\n",
    "X_test_woe = optimal_binning_process.transform(X_test[feature], metric=\"woe\")\n",
    "X_train_woe.shape, X_test_woe.shape"
   ]
  },
  {
   "cell_type": "code",
   "execution_count": null,
   "id": "a72eb7f4",
   "metadata": {},
   "outputs": [],
   "source": [
    "X_train_woe.head()"
   ]
  },
  {
   "cell_type": "code",
   "execution_count": null,
   "id": "f216aaab",
   "metadata": {},
   "outputs": [],
   "source": [
    "X_test_woe.head()"
   ]
  },
  {
   "attachments": {},
   "cell_type": "markdown",
   "id": "160311f1",
   "metadata": {},
   "source": [
    "## V.E. Feature Manual Binning"
   ]
  },
  {
   "attachments": {},
   "cell_type": "markdown",
   "id": "1b6415e5",
   "metadata": {},
   "source": [
    "### V.E.1. Feature Weight of Evidence and Information Value Inspection"
   ]
  },
  {
   "cell_type": "code",
   "execution_count": null,
   "id": "9796d2e4",
   "metadata": {},
   "outputs": [],
   "source": [
    "def woe_analysis(X, feature, y):\n",
    "    df = pd.concat([X[feature], y], axis=1)\n",
    "    df = pd.concat([df.groupby(df.columns.values[0], as_index=False)[df.columns.values[1]].count(),\n",
    "                    df.groupby(df.columns.values[0], as_index=False)[df.columns.values[1]].mean()], axis=1)\n",
    "    df = df.iloc[:, [0, 1, 3]]\n",
    "    df.columns = [df.columns[0], \"n_observation\", \"proportion_of_category\"]\n",
    "    df[\"proportion_of_observation\"] = df[\"n_observation\"] / \\\n",
    "        df[\"n_observation\"].sum()\n",
    "    df[\"n_bad\"] = df[\"proportion_of_category\"] * df[\"n_observation\"]\n",
    "    df[\"n_good\"] = (1 - df[\"proportion_of_category\"]) * df[\"n_observation\"]\n",
    "    df[\"proportion_of_good\"] = df[\"n_good\"] / df[\"n_good\"].sum()\n",
    "    df[\"proportion_of_bad\"] = df[\"n_bad\"] / df[\"n_bad\"].sum()\n",
    "    df[\"WoE\"] = np.log(df[\"proportion_of_good\"] / df[\"proportion_of_bad\"])\n",
    "    df = df.sort_values([\"WoE\"]).reset_index(drop=True)\n",
    "    df[\"diff_proportion_of_category\"] = df[\"proportion_of_category\"].diff().abs()\n",
    "    df[\"diff_WoE\"] = df[\"WoE\"].diff().abs()\n",
    "    df[\"IV\"] = (df[\"proportion_of_good\"] - df[\"proportion_of_bad\"]) * df[\"WoE\"]\n",
    "    df[\"IV\"] = df[\"IV\"].sum()\n",
    "    return df\n",
    "\n",
    "\n",
    "def plot_by_woe(woe_df, rotation_of_x_axis_labels=0):\n",
    "    x = np.array(woe_df.iloc[:, 0].astype(str))\n",
    "    y = woe_df[\"WoE\"]\n",
    "    plt.figure(figsize=(18, 6))\n",
    "    plt.plot(x, y, marker='o', linestyle='--', color='k')\n",
    "    plt.xlabel(woe_df.columns[0])\n",
    "    plt.ylabel(\"Weight of Evidence\")\n",
    "    plt.title(\"Weight of Evidence by \" + woe_df.columns[0])\n",
    "    plt.xticks(rotation=rotation_of_x_axis_labels)"
   ]
  },
  {
   "cell_type": "code",
   "execution_count": null,
   "id": "349ba2d1-9e0e-46a6-8b76-923d9fab9bd7",
   "metadata": {},
   "outputs": [],
   "source": [
    "X_binning = X_train.copy()\n",
    "X_binning.shape"
   ]
  },
  {
   "cell_type": "code",
   "execution_count": null,
   "id": "f0cfd240-14a9-40df-bfbf-07f18f9907ff",
   "metadata": {},
   "outputs": [],
   "source": [
    "X_binning.head()"
   ]
  },
  {
   "attachments": {},
   "cell_type": "markdown",
   "id": "fe3ec9e6",
   "metadata": {},
   "source": [
    "#### V.E.1.A. _Column_0_"
   ]
  },
  {
   "cell_type": "code",
   "execution_count": null,
   "id": "edce1e04",
   "metadata": {},
   "outputs": [],
   "source": [
    "# Categorical Feature\n",
    "column_0_woe = woe_analysis(X_binning, \"column_0\", y_train)\n",
    "column_0_woe"
   ]
  },
  {
   "cell_type": "code",
   "execution_count": null,
   "id": "df26c44f",
   "metadata": {},
   "outputs": [],
   "source": [
    "plot_by_woe(column_0_woe)"
   ]
  },
  {
   "attachments": {},
   "cell_type": "markdown",
   "id": "6f72a1bb",
   "metadata": {},
   "source": [
    "#### V.E.1.B. _Column_1_"
   ]
  },
  {
   "cell_type": "code",
   "execution_count": null,
   "id": "623e1f80",
   "metadata": {},
   "outputs": [],
   "source": [
    "# Continuous Feature\n",
    "# Fine Classing or Coarse Classing\n",
    "# This is an iterative process\n",
    "X_binning[\"column_1_binned\"] = pd.cut(X_binning[\"column_1\"], 10)\n",
    "column_1_woe = woe_analysis(X_binning, \"column_1\", y_train)\n",
    "column_1_woe"
   ]
  },
  {
   "cell_type": "code",
   "execution_count": null,
   "id": "da69652c",
   "metadata": {},
   "outputs": [],
   "source": [
    "X_binning[\"column_1_binned\"].value_counts()"
   ]
  },
  {
   "cell_type": "code",
   "execution_count": null,
   "id": "4634c4bd",
   "metadata": {},
   "outputs": [],
   "source": [
    "plot_by_woe(column_1_woe)"
   ]
  },
  {
   "cell_type": "markdown",
   "id": "1c935d4e-98c5-4a6e-8f13-c59a75f857a3",
   "metadata": {},
   "source": [
    "### V.E.2. Feature Binning"
   ]
  },
  {
   "cell_type": "markdown",
   "id": "6d32e53c-ac58-49a7-8bab-c4d937d81988",
   "metadata": {},
   "source": [
    "#### V.E.2.A. _Column_0_"
   ]
  },
  {
   "cell_type": "code",
   "execution_count": null,
   "id": "87fc6148-257e-46dc-9eb7-e0129924d6f3",
   "metadata": {},
   "outputs": [],
   "source": [
    "# This is just a binning example\n",
    "column_0_bins = [[\"STR\", \"ATK\", \"VIT\"],\n",
    "                 [\"DEF\", \"AGI\", \"DEX\"],\n",
    "                 [\"INT\", \"LUCK\"]]"
   ]
  },
  {
   "cell_type": "code",
   "execution_count": null,
   "id": "be6ad738-c8d8-44ae-855e-9e0713f23187",
   "metadata": {},
   "outputs": [],
   "source": [
    "def column_0_binning(df, bins):\n",
    "    for i, bin in enumerate(bins):\n",
    "        for column_0_bin in bin:\n",
    "            df.loc[df[\"column_0\"] == column_0_bin, \"column_0\"] = f'bin_{chr(97+i)}'\n",
    "    remaining_column_0_bins = set(df[\"column_0\"]) - set([f'bin_{chr(97+i)}' for i in range(len(bins))])\n",
    "    return df"
   ]
  },
  {
   "cell_type": "code",
   "execution_count": null,
   "id": "8b72bbbc-7d5b-45fb-9ca1-65975c252573",
   "metadata": {},
   "outputs": [],
   "source": [
    "X_binning = column_0_binning(X_binning, column_0_bins)\n",
    "X_binning.shape"
   ]
  },
  {
   "cell_type": "code",
   "execution_count": null,
   "id": "16457be1-490c-4831-9d8d-d767361cc5c6",
   "metadata": {},
   "outputs": [],
   "source": [
    "X_binning.head()"
   ]
  },
  {
   "cell_type": "markdown",
   "id": "99e14901-6ab6-4590-97f6-38d7f7e4fbcd",
   "metadata": {},
   "source": [
    "#### V.E.2.B. _Column_1_"
   ]
  },
  {
   "cell_type": "code",
   "execution_count": null,
   "id": "35c653e0-0270-4ea6-9723-3d7815d77ea9",
   "metadata": {},
   "outputs": [],
   "source": [
    "def column_1_binning(df):\n",
    "    bins = [-np.inf, 1978840.31, 8013587.75, 23240000.00, 40215236.00,\n",
    "            54947816.00, 249441952.00, np.inf]  # This is just a binning example\n",
    "    bin_labels = [\"-inf_to_1978840.31\", \"1978840.31_to_8013587.75\", \"8013587.75_to_23240000.00\",\n",
    "                  \"23240000.00_to_40215236.00\", \"40215236.00_to_54947816.00\", \"54947816.00_to_249441952.00\", \"249441952.00_to_inf\"]\n",
    "    df[\"column_1\"] = pd.cut(df[\"column_1\"], bins=bins, labels=bin_labels)\n",
    "    df[\"column_1\"] = df[\"column_1\"].astype(str)\n",
    "    return df"
   ]
  },
  {
   "cell_type": "code",
   "execution_count": null,
   "id": "4983a0ee-11f4-44b2-911a-faefbfb57fc5",
   "metadata": {},
   "outputs": [],
   "source": [
    "X_binning = column_1_binning(X_binning)\n",
    "unused_feat_removal(X_binning, \"column_1_binned\")\n",
    "X_binning.shape"
   ]
  },
  {
   "cell_type": "code",
   "execution_count": null,
   "id": "b53edfe4-fb3d-42d5-94df-4325e154b4f4",
   "metadata": {},
   "outputs": [],
   "source": [
    "X_binning.head()"
   ]
  },
  {
   "cell_type": "code",
   "execution_count": null,
   "id": "0a94060f-be36-4e55-a009-e4627299d67f",
   "metadata": {},
   "outputs": [],
   "source": [
    "X_binning.info()"
   ]
  },
  {
   "attachments": {},
   "cell_type": "markdown",
   "id": "34a2a02e",
   "metadata": {},
   "source": [
    "## V.F. Feature Manual Binning Weight of Evidence Encoding"
   ]
  },
  {
   "cell_type": "code",
   "execution_count": null,
   "id": "ca90cd15",
   "metadata": {},
   "outputs": [],
   "source": [
    "def manual_binning_woe_encoding(X, feature, df_woe_analysis):\n",
    "    X_encoded = X.copy()\n",
    "    woe_values = df_woe_analysis.set_index(feature)[\"WoE\"]\n",
    "    X_encoded[feature] = X_encoded[feature].map(woe_values)\n",
    "    return X_encoded"
   ]
  },
  {
   "cell_type": "code",
   "execution_count": null,
   "id": "8518daf4-061c-40bc-8c0e-566aef3a7b38",
   "metadata": {},
   "outputs": [],
   "source": [
    "X_train_copy = X_train.copy()\n",
    "X_test_copy = X_test.copy()"
   ]
  },
  {
   "cell_type": "markdown",
   "id": "8363b057-67c7-4350-8581-6496ddf1ef02",
   "metadata": {},
   "source": [
    "### V.F.1. _Column_0_"
   ]
  },
  {
   "cell_type": "code",
   "execution_count": null,
   "id": "a034fe7b",
   "metadata": {},
   "outputs": [],
   "source": [
    "X_train_woe = manual_binning_woe_encoding(\n",
    "    X_train_copy, \"column_0\", column_0_woe)\n",
    "X_test_woe = manual_binning_woe_encoding(X_test_copy, \"column_0\", column_0_woe)\n",
    "X_train_woe.shape, X_test_woe.shape"
   ]
  },
  {
   "cell_type": "code",
   "execution_count": null,
   "id": "65af03e5",
   "metadata": {},
   "outputs": [],
   "source": [
    "X_train_woe.head()"
   ]
  },
  {
   "cell_type": "code",
   "execution_count": null,
   "id": "8da24139",
   "metadata": {},
   "outputs": [],
   "source": [
    "X_test_woe.head()"
   ]
  },
  {
   "cell_type": "markdown",
   "id": "50c797ad-9a13-4c20-829f-b18d028de762",
   "metadata": {},
   "source": [
    "### V.F.2. _Column_1_"
   ]
  },
  {
   "cell_type": "code",
   "execution_count": null,
   "id": "eb1d945c-629f-4eeb-84aa-13aa539293b0",
   "metadata": {},
   "outputs": [],
   "source": [
    "X_train_woe = manual_binning_woe_encoding(\n",
    "    X_train_copy, \"column_1\", column_1_woe)\n",
    "X_test_woe = manual_binning_woe_encoding(X_test_copy, \"column_1\", column_1_woe)\n",
    "X_train_woe.shape, X_test_woe.shape"
   ]
  },
  {
   "cell_type": "code",
   "execution_count": null,
   "id": "b7272e56-dd0b-473c-b880-150ab422e02b",
   "metadata": {},
   "outputs": [],
   "source": [
    "X_train_woe.head()"
   ]
  },
  {
   "cell_type": "code",
   "execution_count": null,
   "id": "52387dac-1778-4c41-ab00-55802d82a4f1",
   "metadata": {},
   "outputs": [],
   "source": [
    "X_test_woe.head()"
   ]
  },
  {
   "attachments": {},
   "cell_type": "markdown",
   "id": "472a5339",
   "metadata": {},
   "source": [
    "## V.G. Feature Manual Binning One-Hot Encoding"
   ]
  },
  {
   "cell_type": "code",
   "execution_count": null,
   "id": "4b430f0e-99ed-49a7-8fbe-68d00b6c1022",
   "metadata": {},
   "outputs": [],
   "source": [
    "X_train_binned = X_train.copy()\n",
    "X_test_binned = X_test.copy()"
   ]
  },
  {
   "cell_type": "code",
   "execution_count": null,
   "id": "101c7b18-7fc2-4f59-97d7-59476d74f283",
   "metadata": {},
   "outputs": [],
   "source": [
    "def feature_binning(df):\n",
    "    df = column_0_binning(df)\n",
    "    df = column_1_binning(df)\n",
    "    return df"
   ]
  },
  {
   "cell_type": "code",
   "execution_count": null,
   "id": "9b592016-d215-403d-bebd-dde0720303a4",
   "metadata": {},
   "outputs": [],
   "source": [
    "X_train_binned = feature_binning(X_train_binned)\n",
    "X_test_binned = feature_binning(X_test_binned)\n",
    "X_train_binned.shape, X_test_binned.shape"
   ]
  },
  {
   "cell_type": "code",
   "execution_count": null,
   "id": "56971d22-dd06-4ddd-8df6-c96bb014d32d",
   "metadata": {},
   "outputs": [],
   "source": [
    "X_train_binned.head()"
   ]
  },
  {
   "cell_type": "code",
   "execution_count": null,
   "id": "448e16bc-421e-4811-8b5d-25fec51c636e",
   "metadata": {},
   "outputs": [],
   "source": [
    "X_test_binned.head()"
   ]
  },
  {
   "cell_type": "code",
   "execution_count": null,
   "id": "8f7d3ba1-40dc-4609-ba08-06fd1fab37ae",
   "metadata": {},
   "outputs": [],
   "source": [
    "feature_to_encode = [\"column_0\", \"column_1\"]"
   ]
  },
  {
   "cell_type": "code",
   "execution_count": null,
   "id": "99845d92-a1c6-47f0-9666-f8faf3be06af",
   "metadata": {},
   "outputs": [],
   "source": [
    "def one_hot_encoding(df, feature_to_encode):\n",
    "    df_encoded = pd.get_dummies(df,\n",
    "                                columns=feature_to_encode,\n",
    "                                prefix=feature_to_encode,\n",
    "                                prefix_sep=\":\")\n",
    "    df_encoded = df_encoded.astype(int)\n",
    "    return df_encoded"
   ]
  },
  {
   "cell_type": "code",
   "execution_count": null,
   "id": "81d4fc3a-d6c8-4083-8328-618bef0d5fc6",
   "metadata": {},
   "outputs": [],
   "source": [
    "X_train_ohe = one_hot_encoding(X_train_binned, feature_to_encode)\n",
    "X_test_ohe = one_hot_encoding(X_test_binned, feature_to_encode)\n",
    "X_train_ohe.shape, X_test_ohe.shape"
   ]
  },
  {
   "cell_type": "code",
   "execution_count": null,
   "id": "0ed96e8a-e30c-438c-a949-c022f8c0fa22",
   "metadata": {},
   "outputs": [],
   "source": [
    "X_train_ohe.head()"
   ]
  },
  {
   "cell_type": "code",
   "execution_count": null,
   "id": "efdd88ad-1daf-43d2-a0dd-e13ae7aff459",
   "metadata": {},
   "outputs": [],
   "source": [
    "X_test_ohe.head()"
   ]
  },
  {
   "attachments": {},
   "cell_type": "markdown",
   "id": "db69461a",
   "metadata": {},
   "source": [
    "## V.H. Export Data"
   ]
  },
  {
   "cell_type": "code",
   "execution_count": null,
   "id": "c0804fda",
   "metadata": {},
   "outputs": [],
   "source": [
    "X_train_woe.to_pickle('../../data/processed/X_train_woe.pkl')\n",
    "X_test_woe.to_pickle('../../data/processed/X_test_woe.pkl')\n",
    "\n",
    "X_train_ohe.to_pickle('../../data/processed/X_train_ohe.pkl')\n",
    "X_test_ohe.to_pickle('../../data/processed/X_test_ohe.pkl')"
   ]
  }
 ],
 "metadata": {
  "kernelspec": {
   "display_name": "Python 3 (ipykernel)",
   "language": "python",
   "name": "python3"
  },
  "language_info": {
   "codemirror_mode": {
    "name": "ipython",
    "version": 3
   },
   "file_extension": ".py",
   "mimetype": "text/x-python",
   "name": "python",
   "nbconvert_exporter": "python",
   "pygments_lexer": "ipython3",
   "version": "3.12.0"
  }
 },
 "nbformat": 4,
 "nbformat_minor": 5
}
